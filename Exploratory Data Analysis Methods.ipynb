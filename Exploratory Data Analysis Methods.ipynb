{
 "cells": [
  {
   "cell_type": "markdown",
   "id": "632e7db4",
   "metadata": {},
   "source": [
    "# Import Python Libraries"
   ]
  },
  {
   "cell_type": "code",
   "execution_count": 1,
   "id": "ffa0df20",
   "metadata": {},
   "outputs": [],
   "source": [
    "import pandas as pd \n",
    "import numpy as np \n",
    "import matplotlib.pyplot as plt \n",
    "%matplotlib inline\n",
    "import seaborn as sns\n",
    "\n",
    "import warnings\n",
    "warnings. filterwarnings ('ignore')"
   ]
  },
  {
   "cell_type": "code",
   "execution_count": 2,
   "id": "0ebed886",
   "metadata": {},
   "outputs": [],
   "source": [
    "# Load dataset\n",
    "df = pd.read_csv('Titanic.csv')"
   ]
  },
  {
   "cell_type": "code",
   "execution_count": 3,
   "id": "9fdf77a1",
   "metadata": {},
   "outputs": [
    {
     "data": {
      "text/html": [
       "<div>\n",
       "<style scoped>\n",
       "    .dataframe tbody tr th:only-of-type {\n",
       "        vertical-align: middle;\n",
       "    }\n",
       "\n",
       "    .dataframe tbody tr th {\n",
       "        vertical-align: top;\n",
       "    }\n",
       "\n",
       "    .dataframe thead th {\n",
       "        text-align: right;\n",
       "    }\n",
       "</style>\n",
       "<table border=\"1\" class=\"dataframe\">\n",
       "  <thead>\n",
       "    <tr style=\"text-align: right;\">\n",
       "      <th></th>\n",
       "      <th>PassengerId</th>\n",
       "      <th>Survived</th>\n",
       "      <th>Pclass</th>\n",
       "      <th>Name</th>\n",
       "      <th>Sex</th>\n",
       "      <th>Age</th>\n",
       "      <th>SibSp</th>\n",
       "      <th>Parch</th>\n",
       "      <th>Ticket</th>\n",
       "      <th>Fare</th>\n",
       "      <th>Cabin</th>\n",
       "      <th>Embarked</th>\n",
       "    </tr>\n",
       "  </thead>\n",
       "  <tbody>\n",
       "    <tr>\n",
       "      <th>0</th>\n",
       "      <td>1</td>\n",
       "      <td>0</td>\n",
       "      <td>3</td>\n",
       "      <td>Braund, Mr. Owen Harris</td>\n",
       "      <td>male</td>\n",
       "      <td>22.0</td>\n",
       "      <td>1</td>\n",
       "      <td>0</td>\n",
       "      <td>A/5 21171</td>\n",
       "      <td>7.2500</td>\n",
       "      <td>NaN</td>\n",
       "      <td>S</td>\n",
       "    </tr>\n",
       "    <tr>\n",
       "      <th>1</th>\n",
       "      <td>2</td>\n",
       "      <td>1</td>\n",
       "      <td>1</td>\n",
       "      <td>Cumings, Mrs. John Bradley (Florence Briggs Th...</td>\n",
       "      <td>female</td>\n",
       "      <td>38.0</td>\n",
       "      <td>1</td>\n",
       "      <td>0</td>\n",
       "      <td>PC 17599</td>\n",
       "      <td>71.2833</td>\n",
       "      <td>C85</td>\n",
       "      <td>C</td>\n",
       "    </tr>\n",
       "    <tr>\n",
       "      <th>2</th>\n",
       "      <td>3</td>\n",
       "      <td>1</td>\n",
       "      <td>3</td>\n",
       "      <td>Heikkinen, Miss. Laina</td>\n",
       "      <td>female</td>\n",
       "      <td>26.0</td>\n",
       "      <td>0</td>\n",
       "      <td>0</td>\n",
       "      <td>STON/O2. 3101282</td>\n",
       "      <td>7.9250</td>\n",
       "      <td>NaN</td>\n",
       "      <td>S</td>\n",
       "    </tr>\n",
       "    <tr>\n",
       "      <th>3</th>\n",
       "      <td>4</td>\n",
       "      <td>1</td>\n",
       "      <td>1</td>\n",
       "      <td>Futrelle, Mrs. Jacques Heath (Lily May Peel)</td>\n",
       "      <td>female</td>\n",
       "      <td>35.0</td>\n",
       "      <td>1</td>\n",
       "      <td>0</td>\n",
       "      <td>113803</td>\n",
       "      <td>53.1000</td>\n",
       "      <td>C123</td>\n",
       "      <td>S</td>\n",
       "    </tr>\n",
       "    <tr>\n",
       "      <th>4</th>\n",
       "      <td>5</td>\n",
       "      <td>0</td>\n",
       "      <td>3</td>\n",
       "      <td>Allen, Mr. William Henry</td>\n",
       "      <td>male</td>\n",
       "      <td>35.0</td>\n",
       "      <td>0</td>\n",
       "      <td>0</td>\n",
       "      <td>373450</td>\n",
       "      <td>8.0500</td>\n",
       "      <td>NaN</td>\n",
       "      <td>S</td>\n",
       "    </tr>\n",
       "  </tbody>\n",
       "</table>\n",
       "</div>"
      ],
      "text/plain": [
       "   PassengerId  Survived  Pclass  \\\n",
       "0            1         0       3   \n",
       "1            2         1       1   \n",
       "2            3         1       3   \n",
       "3            4         1       1   \n",
       "4            5         0       3   \n",
       "\n",
       "                                                Name     Sex   Age  SibSp  \\\n",
       "0                            Braund, Mr. Owen Harris    male  22.0      1   \n",
       "1  Cumings, Mrs. John Bradley (Florence Briggs Th...  female  38.0      1   \n",
       "2                             Heikkinen, Miss. Laina  female  26.0      0   \n",
       "3       Futrelle, Mrs. Jacques Heath (Lily May Peel)  female  35.0      1   \n",
       "4                           Allen, Mr. William Henry    male  35.0      0   \n",
       "\n",
       "   Parch            Ticket     Fare Cabin Embarked  \n",
       "0      0         A/5 21171   7.2500   NaN        S  \n",
       "1      0          PC 17599  71.2833   C85        C  \n",
       "2      0  STON/O2. 3101282   7.9250   NaN        S  \n",
       "3      0            113803  53.1000  C123        S  \n",
       "4      0            373450   8.0500   NaN        S  "
      ]
     },
     "execution_count": 3,
     "metadata": {},
     "output_type": "execute_result"
    }
   ],
   "source": [
    "# Preview dataset\n",
    "df.head()"
   ]
  },
  {
   "cell_type": "code",
   "execution_count": 4,
   "id": "0558c374",
   "metadata": {},
   "outputs": [
    {
     "name": "stdout",
     "output_type": "stream",
     "text": [
      "<class 'pandas.core.frame.DataFrame'>\n",
      "RangeIndex: 891 entries, 0 to 890\n",
      "Data columns (total 12 columns):\n",
      " #   Column       Non-Null Count  Dtype  \n",
      "---  ------       --------------  -----  \n",
      " 0   PassengerId  891 non-null    int64  \n",
      " 1   Survived     891 non-null    int64  \n",
      " 2   Pclass       891 non-null    int64  \n",
      " 3   Name         891 non-null    object \n",
      " 4   Sex          891 non-null    object \n",
      " 5   Age          714 non-null    float64\n",
      " 6   SibSp        891 non-null    int64  \n",
      " 7   Parch        891 non-null    int64  \n",
      " 8   Ticket       891 non-null    object \n",
      " 9   Fare         891 non-null    float64\n",
      " 10  Cabin        204 non-null    object \n",
      " 11  Embarked     889 non-null    object \n",
      "dtypes: float64(2), int64(5), object(5)\n",
      "memory usage: 83.7+ KB\n"
     ]
    }
   ],
   "source": [
    "df.info()"
   ]
  },
  {
   "cell_type": "markdown",
   "id": "40440f69",
   "metadata": {},
   "source": [
    "# Data Cleansing"
   ]
  },
  {
   "cell_type": "code",
   "execution_count": 5,
   "id": "7f578538",
   "metadata": {},
   "outputs": [
    {
     "data": {
      "text/plain": [
       "PassengerId      0\n",
       "Survived         0\n",
       "Pclass           0\n",
       "Name             0\n",
       "Sex              0\n",
       "Age            177\n",
       "SibSp            0\n",
       "Parch            0\n",
       "Ticket           0\n",
       "Fare             0\n",
       "Cabin          687\n",
       "Embarked         2\n",
       "dtype: int64"
      ]
     },
     "execution_count": 5,
     "metadata": {},
     "output_type": "execute_result"
    }
   ],
   "source": [
    "#Check missing value\n",
    "df.isna().sum()"
   ]
  },
  {
   "cell_type": "code",
   "execution_count": 6,
   "id": "e8aaa3a3",
   "metadata": {},
   "outputs": [],
   "source": [
    "#Fill missing value for Age\n",
    "val = df.Age.median()\n",
    "df['Age'] = df.Age.fillna(val)"
   ]
  },
  {
   "cell_type": "code",
   "execution_count": 7,
   "id": "b825e7fb",
   "metadata": {},
   "outputs": [],
   "source": [
    "#Fill missing value for Embarked\n",
    "val = df.Embarked.mode().values[0]\n",
    "df['Embarked'] = df.Embarked.fillna(val)"
   ]
  },
  {
   "cell_type": "code",
   "execution_count": 8,
   "id": "d36fa02c",
   "metadata": {},
   "outputs": [],
   "source": [
    "#Drop Cabin\n",
    "df.drop('Cabin', axis=1, inplace = True)"
   ]
  },
  {
   "cell_type": "markdown",
   "id": "096c0e1f",
   "metadata": {},
   "source": [
    "# Exploratory Data Analysis (EDA) \n",
    "involves several methods to delve into datasets and uncover valuable insights:\n",
    "\n",
    "## 1. Identifying Data Relationships \n",
    "EDA helps identify relationships between different variables in the dataset. This can be done through visualizations such as scatter plots, correlation matrices, and heatmaps, which reveal how variables are related to each other.\n",
    "## 2. Describing Data Drilling Concepts \n",
    "Data drilling involves examining data at different levels of granularity. Granularity refers to the level of detail or specificity in the data. EDA explores data at various granularities to understand patterns and trends. For example, drilling down from yearly data to monthly or daily data provides a more detailed perspective.\n",
    "## 3. Describing Data Mining Concepts:\n",
    "### Correlation Analysis \n",
    "EDA examines correlations between variables to identify patterns and relationships. Correlation matrices and scatter plots are commonly used to visualize correlations."
   ]
  },
  {
   "cell_type": "code",
   "execution_count": 9,
   "id": "3a43beab",
   "metadata": {},
   "outputs": [],
   "source": [
    "df_age_notnull = df['Age'][df['Age'].notnull()]"
   ]
  },
  {
   "cell_type": "code",
   "execution_count": 10,
   "id": "1ae59aba",
   "metadata": {},
   "outputs": [],
   "source": [
    "df_pclass_notnull = df['Pclass'][df['Pclass'].notnull()]"
   ]
  },
  {
   "cell_type": "code",
   "execution_count": 11,
   "id": "a2922e63",
   "metadata": {},
   "outputs": [],
   "source": [
    "df_survived_notnull = df['Survived'][df['Survived'].notnull()]"
   ]
  },
  {
   "cell_type": "code",
   "execution_count": 12,
   "id": "fa5206e5",
   "metadata": {},
   "outputs": [],
   "source": [
    "df1 = df[['Age','Pclass','Survived']]"
   ]
  },
  {
   "cell_type": "code",
   "execution_count": 13,
   "id": "39ac0c03",
   "metadata": {},
   "outputs": [
    {
     "data": {
      "image/png": "[encoded data removed]",
      "text/plain": [
       "<Figure size 1000x800 with 2 Axes>"
      ]
     },
     "metadata": {},
     "output_type": "display_data"
    }
   ],
   "source": [
    "plt.figure(figsize = (10,8))\n",
    "sns.heatmap(df1.corr(), annot=True);"
   ]
  },
  {
   "cell_type": "markdown",
   "id": "d5fe01d4",
   "metadata": {},
   "source": [
    "### Anomalies \n",
    "- Anomalies are data or values that deviate from the expected pattern in a dataset.\n",
    "- They may include nonsensical values, such as negative ages or fractional quantities, which are unrealistic in real-world scenarios, such as negative age (-15 years), which are implausible in real-world contexts.\n",
    "- Anomalies can be detected through exploratory data analysis (EDA) techniques, such as visualizations like box plots and histograms.\n",
    "\n",
    "### Outliers\n",
    "- Outliers are data points that significantly differ from the majority of the dataset. Such as an age of 80 years is not inherently unreasonable in the context of human age, but its value is significantly distant from the general average, making it an outlier. \n",
    "- They represent notable deviations from the dataset's norm and may indicate interesting insights or data errors.\n",
    "- Outliers are identified using EDA methods like box plots, scatter plots, and z-score analysis.\n",
    "\n",
    "##### Anomaly is an outlier `HOWEVER` not all outliers are anomalies."
   ]
  },
  {
   "cell_type": "code",
   "execution_count": 14,
   "id": "645d6dec",
   "metadata": {},
   "outputs": [
    {
     "data": {
      "image/png": "[encoded data removed]",
      "text/plain": [
       "<Figure size 640x480 with 1 Axes>"
      ]
     },
     "metadata": {},
     "output_type": "display_data"
    }
   ],
   "source": [
    "# Boxplot (H)\n",
    "sns.boxplot(x=df['Age']);"
   ]
  },
  {
   "cell_type": "markdown",
   "id": "786adab2",
   "metadata": {},
   "source": [
    "#### Outliers\n",
    "Outliers `don't always need to be discarded`; they can be reasonable but fall into the outlier category due to their limited quantity.\n",
    "\n",
    "#### Anomalies\n",
    "Anomalies `must be removed` as they deviate significantly from the expected pattern or are logically implausible."
   ]
  },
  {
   "cell_type": "markdown",
   "id": "e0f66224",
   "metadata": {},
   "source": [
    "## Handling\n",
    "### Outliers\n",
    "- Using IQR\n",
    "- IQR tells how spread the middle values are. It can be used to tell when a value is too far from the middle.\n",
    "- An outlier is a point which falls more than 1.5 times the interquartile range above the third quartile or below the first quartile.\n",
    "- we will use the same dataset\n",
    "\n",
    "step 1:\n",
    "- Arrange the data in increasing order\n",
    "- Calculate first(q1) and third quartile(93)\n",
    "- Find interquartile range (q3-91)\n",
    "- Find lower bound q1*1.5\n",
    "- Find upper bound q3*1.5\n",
    "- Anything that lies outside of lower and upper bound is an outlier"
   ]
  },
  {
   "cell_type": "code",
   "execution_count": 15,
   "id": "491c29f1",
   "metadata": {},
   "outputs": [],
   "source": [
    "df_age_notnull = df['Age'][df['Age'].notnull()]"
   ]
  },
  {
   "cell_type": "markdown",
   "id": "7289fa44",
   "metadata": {},
   "source": [
    "finding first quantile and third quantile"
   ]
  },
  {
   "cell_type": "code",
   "execution_count": 16,
   "id": "288060e6",
   "metadata": {},
   "outputs": [
    {
     "name": "stdout",
     "output_type": "stream",
     "text": [
      "22.0 35.0\n"
     ]
    }
   ],
   "source": [
    "q1, q3 = np.percentile(df_age_notnull, [25,75])\n",
    "print(q1, q3)"
   ]
  },
  {
   "cell_type": "markdown",
   "id": "57ad6898",
   "metadata": {},
   "source": [
    "Find the IQR which is the difference between third and first quartile"
   ]
  },
  {
   "cell_type": "code",
   "execution_count": 17,
   "id": "4e74c5ff",
   "metadata": {},
   "outputs": [
    {
     "name": "stdout",
     "output_type": "stream",
     "text": [
      "13.0\n"
     ]
    }
   ],
   "source": [
    "iqr = q3 - q1\n",
    "print(iqr)"
   ]
  },
  {
   "cell_type": "markdown",
   "id": "9f5bf09f",
   "metadata": {},
   "source": [
    "Find lower and upper bound"
   ]
  },
  {
   "cell_type": "code",
   "execution_count": 18,
   "id": "b0f6a7c1",
   "metadata": {},
   "outputs": [
    {
     "name": "stdout",
     "output_type": "stream",
     "text": [
      "2.5\n",
      "54.5\n"
     ]
    }
   ],
   "source": [
    "lower_bound = q1 - (1.5 * iqr)\n",
    "upper_bound = q3 + (1.5 * iqr)\n",
    "\n",
    "print(lower_bound)\n",
    "print(upper_bound)"
   ]
  },
  {
   "cell_type": "code",
   "execution_count": 19,
   "id": "ad548e68",
   "metadata": {},
   "outputs": [
    {
     "name": "stdout",
     "output_type": "stream",
     "text": [
      "0      22.0\n",
      "1      38.0\n",
      "2      26.0\n",
      "3      35.0\n",
      "4      35.0\n",
      "       ... \n",
      "886    27.0\n",
      "887    19.0\n",
      "888    28.0\n",
      "889    26.0\n",
      "890    32.0\n",
      "Name: Age, Length: 825, dtype: float64\n"
     ]
    }
   ],
   "source": [
    "# Handling outlier (the lower and upper bounds are to be excluded, DEPENDING ON THE REQUIREMENTS)\n",
    "\n",
    "df_age_new = df['Age'][(df['Age'] > lower_bound) & (df['Age'] < upper_bound)]\n",
    "print(df_age_new)"
   ]
  },
  {
   "cell_type": "code",
   "execution_count": 20,
   "id": "83f6b36b",
   "metadata": {},
   "outputs": [
    {
     "data": {
      "text/plain": [
       "count    825.000000\n",
       "mean      28.515152\n",
       "std       10.177256\n",
       "min        3.000000\n",
       "25%       22.000000\n",
       "50%       28.000000\n",
       "75%       34.000000\n",
       "max       54.000000\n",
       "Name: Age, dtype: float64"
      ]
     },
     "execution_count": 20,
     "metadata": {},
     "output_type": "execute_result"
    }
   ],
   "source": [
    "df_age_new.describe()"
   ]
  },
  {
   "cell_type": "code",
   "execution_count": 21,
   "id": "5200e69b",
   "metadata": {},
   "outputs": [
    {
     "data": {
      "image/png": "[encoded data removed]",
      "text/plain": [
       "<Figure size 640x480 with 1 Axes>"
      ]
     },
     "metadata": {},
     "output_type": "display_data"
    }
   ],
   "source": [
    "sns.boxplot(x=df_age_new);"
   ]
  }
 ],
 "metadata": {
  "kernelspec": {
   "display_name": "Python 3 (ipykernel)",
   "language": "python",
   "name": "python3"
  },
  "language_info": {
   "codemirror_mode": {
    "name": "ipython",
    "version": 3
   },
   "file_extension": ".py",
   "mimetype": "text/x-python",
   "name": "python",
   "nbconvert_exporter": "python",
   "pygments_lexer": "ipython3",
   "version": "3.11.7"
  }
 },
 "nbformat": 4,
 "nbformat_minor": 5
}
